{
 "cells": [
  {
   "cell_type": "code",
   "execution_count": 170,
   "metadata": {
    "scrolled": true
   },
   "outputs": [],
   "source": [
    "\n",
    "import numpy as np # linear algebra\n",
    "import pandas as pd # data processing, CSV file I/O (e.g. pd.read_csv)\n",
    "import os\n",
    "#print(os.listdir(\"../input\"))\n",
    "# Any results you write to the current directory are saved as output.\n",
    "from keras.applications.vgg16 import VGG16\n",
    "from keras.preprocessing import image\n",
    "from keras.applications.vgg16 import preprocess_input\n",
    "from keras.layers import Input, Flatten, Dense\n",
    "from keras.models import Model\n",
    "import glob\n",
    "from scipy import misc\n",
    "import tensorflow as tf\n",
    "import numpy as np\n",
    "from keras.callbacks import ModelCheckpoint\n",
    "import matplotlib.pyplot as plt\n",
    "import matplotlib.image as mpimg\n",
    "from keras.layers import Dense, Activation, Dropout, Flatten,\\\n",
    " Conv2D, MaxPooling2D\n",
    "from keras.layers.normalization import BatchNormalization\n",
    "from keras.models import Sequential\n",
    "from keras.optimizers import Adam \n",
    "\n",
    "#Get back the convolutional part of a VGG network trained on ImageNet"
   ]
  },
  {
   "cell_type": "code",
   "execution_count": 171,
   "metadata": {},
   "outputs": [],
   "source": [
    "from sklearn.model_selection import cross_val_score, GridSearchCV\n",
    "from sklearn.ensemble import RandomForestRegressor\n",
    "from sklearn.preprocessing import MinMaxScaler"
   ]
  },
  {
   "cell_type": "code",
   "execution_count": 172,
   "metadata": {},
   "outputs": [],
   "source": [
    "\n",
    "model = Sequential()\n",
    "# 1st Convolutional Layer\n",
    "model.add(Conv2D(filters=96, input_shape=(224,224,3), kernel_size=(11,11),\\\n",
    " strides=(4,4), padding='valid'))\n",
    "model.add(Activation('relu'))\n",
    "# Pooling\n",
    "model.add(MaxPooling2D(pool_size=(2,2), strides=(2,2), padding='valid'))\n",
    "# Batch Normalisation before passing it to the next layer\n",
    "model.add(BatchNormalization())"
   ]
  },
  {
   "cell_type": "code",
   "execution_count": 173,
   "metadata": {},
   "outputs": [],
   "source": [
    "# 2nd Convolutional Layer\n",
    "model.add(Conv2D(filters=256, kernel_size=(11,11), strides=(1,1), padding='valid'))\n",
    "model.add(Activation('relu'))\n",
    "# Pooling\n",
    "model.add(MaxPooling2D(pool_size=(2,2), strides=(2,2), padding='valid'))\n",
    "# Batch Normalisation\n",
    "model.add(BatchNormalization())"
   ]
  },
  {
   "cell_type": "code",
   "execution_count": 174,
   "metadata": {},
   "outputs": [],
   "source": [
    "# 3rd Convolutional Layer\n",
    "model.add(Conv2D(filters=384, kernel_size=(3,3), strides=(1,1), padding='valid'))\n",
    "model.add(Activation('relu'))\n",
    "# Batch Normalisation\n",
    "model.add(BatchNormalization())\n"
   ]
  },
  {
   "cell_type": "code",
   "execution_count": 175,
   "metadata": {},
   "outputs": [],
   "source": [
    "# 4th Convolutional Layer\n",
    "model.add(Conv2D(filters=384, kernel_size=(3,3), strides=(1,1), padding='valid'))\n",
    "model.add(Activation('relu'))\n",
    "# Batch Normalisation\n",
    "model.add(BatchNormalization())\n"
   ]
  },
  {
   "cell_type": "code",
   "execution_count": 176,
   "metadata": {},
   "outputs": [],
   "source": [
    "# 5th Convolutional Layer\n",
    "model.add(Conv2D(filters=256, kernel_size=(3,3), strides=(1,1), padding='valid'))\n",
    "model.add(Activation('relu'))\n",
    "# Pooling\n",
    "model.add(MaxPooling2D(pool_size=(2,2), strides=(2,2), padding='valid'))\n",
    "# Batch Normalisation\n",
    "model.add(BatchNormalization())"
   ]
  },
  {
   "cell_type": "code",
   "execution_count": 177,
   "metadata": {},
   "outputs": [],
   "source": [
    "# Passing it to a dense layer\n",
    "model.add(Flatten())\n",
    "# 1st Dense Layer\n",
    "model.add(Dense(4096, input_shape=(224*224*3,)))\n",
    "model.add(Activation('relu'))\n",
    "# Add Dropout to prevent overfitting\n",
    "model.add(Dropout(0.4))\n",
    "# Batch Normalisation\n",
    "model.add(BatchNormalization())\n"
   ]
  },
  {
   "cell_type": "code",
   "execution_count": 178,
   "metadata": {},
   "outputs": [],
   "source": [
    "# 2nd Dense Layer\n",
    "model.add(Dense(4096))\n",
    "model.add(Activation('relu'))\n",
    "# Add Dropout\n",
    "model.add(Dropout(0.4))\n",
    "# Batch Normalisation\n",
    "model.add(BatchNormalization())\n"
   ]
  },
  {
   "cell_type": "code",
   "execution_count": 179,
   "metadata": {},
   "outputs": [],
   "source": [
    "# 3rd Dense Layer\n",
    "model.add(Dense(1000))\n",
    "model.add(Activation('relu'))\n",
    "# Add Dropout\n",
    "model.add(Dropout(0.4))\n",
    "# Batch Normalisation\n",
    "model.add(BatchNormalization())\n"
   ]
  },
  {
   "cell_type": "code",
   "execution_count": 180,
   "metadata": {},
   "outputs": [],
   "source": [
    "# Output Layer\n",
    "model.add(Dense(2))\n",
    "model.add(Activation('softmax'))\n",
    "\n",
    "batch_size = 16\n",
    "\n",
    "# this is the augmentation configuration we will use for training\n",
    "train_datagen = image.ImageDataGenerator()\n",
    "\n",
    "# this is the augmentation configuration we will use for testing:\n",
    "# only rescaling\n",
    "test_datagen = image.ImageDataGenerator()\n"
   ]
  },
  {
   "cell_type": "code",
   "execution_count": 181,
   "metadata": {
    "scrolled": true
   },
   "outputs": [
    {
     "name": "stdout",
     "output_type": "stream",
     "text": [
      "Found 87 images belonging to 2 classes.\n",
      "Found 46 images belonging to 2 classes.\n",
      "Found 11 images belonging to 1 classes.\n"
     ]
    }
   ],
   "source": [
    "\n",
    "# this is a generator that will read pictures found in\n",
    "# subfolers of 'data/train', and indefinitely generate\n",
    "# batches of augmented image data\n",
    "class_names = ['non-crack', 'crack']\n",
    "train_generator = train_datagen.flow_from_directory(\n",
    "        \"./Images/272 Project/Training\",  # this is the target directory\n",
    "        target_size=(224, 224),  # all images will be resized to 150x150\n",
    "        batch_size=batch_size,\n",
    "          class_mode='binary',\n",
    "       )  # since we use binary_crossentropy loss, we need binary labels\n",
    "\n",
    "# # this is a similar generator, for validation data\n",
    "validation_generator = test_datagen.flow_from_directory(\n",
    "          \"./Images/272 Project/Validation\",\n",
    "          target_size=(224, 224),\n",
    "          class_mode='binary',\n",
    "          batch_size=batch_size,\n",
    "         )\n",
    "\n",
    "test_generator = test_datagen.flow_from_directory(\n",
    "          \"./Images/272 Project/Test\",\n",
    "          target_size=(224, 224),\n",
    "          batch_size=1,\n",
    "          class_mode=None,\n",
    "          shuffle='False'\n",
    "            )\n",
    "\n"
   ]
  },
  {
   "cell_type": "code",
   "execution_count": 183,
   "metadata": {},
   "outputs": [
    {
     "name": "stdout",
     "output_type": "stream",
     "text": [
      "Epoch 1/20\n",
      " - 37s - loss: 1.3991 - acc: 0.6960 - val_loss: 8.2926 - val_acc: 0.4855\n",
      "\n",
      "Epoch 00001: val_acc improved from -inf to 0.48551, saving model to weights.best.hdf5_2\n",
      "Epoch 2/20\n",
      " - 22s - loss: 0.7980 - acc: 0.7894 - val_loss: 8.4094 - val_acc: 0.4783\n",
      "\n",
      "Epoch 00002: val_acc did not improve from 0.48551\n",
      "Epoch 3/20\n",
      " - 28s - loss: 0.6739 - acc: 0.8167 - val_loss: 7.3617 - val_acc: 0.5000\n",
      "\n",
      "Epoch 00003: val_acc improved from 0.48551 to 0.50000, saving model to weights.best.hdf5_2\n",
      "Epoch 4/20\n",
      " - 26s - loss: 0.5834 - acc: 0.7938 - val_loss: 5.1830 - val_acc: 0.4710\n",
      "\n",
      "Epoch 00004: val_acc did not improve from 0.50000\n",
      "Epoch 5/20\n",
      " - 26s - loss: 0.5718 - acc: 0.7685 - val_loss: 2.4651 - val_acc: 0.6522\n",
      "\n",
      "Epoch 00005: val_acc improved from 0.50000 to 0.65217, saving model to weights.best.hdf5_2\n",
      "Epoch 6/20\n",
      " - 26s - loss: 0.7400 - acc: 0.7519 - val_loss: 2.7360 - val_acc: 0.6667\n",
      "\n",
      "Epoch 00006: val_acc improved from 0.65217 to 0.66667, saving model to weights.best.hdf5_2\n",
      "Epoch 7/20\n",
      " - 26s - loss: 0.5125 - acc: 0.7801 - val_loss: 3.4340 - val_acc: 0.4928\n",
      "\n",
      "Epoch 00007: val_acc did not improve from 0.66667\n",
      "Epoch 8/20\n",
      " - 26s - loss: 0.3594 - acc: 0.8833 - val_loss: 1.9718 - val_acc: 0.6594\n",
      "\n",
      "Epoch 00008: val_acc did not improve from 0.66667\n",
      "Epoch 9/20\n",
      " - 26s - loss: 0.3636 - acc: 0.8796 - val_loss: 2.5427 - val_acc: 0.6014\n",
      "\n",
      "Epoch 00009: val_acc did not improve from 0.66667\n",
      "Epoch 10/20\n",
      " - 27s - loss: 0.3297 - acc: 0.8896 - val_loss: 2.3876 - val_acc: 0.6232\n",
      "\n",
      "Epoch 00010: val_acc did not improve from 0.66667\n",
      "Epoch 11/20\n",
      " - 27s - loss: 0.2173 - acc: 0.8959 - val_loss: 2.4737 - val_acc: 0.5217\n",
      "\n",
      "Epoch 00011: val_acc did not improve from 0.66667\n",
      "Epoch 12/20\n",
      " - 28s - loss: 0.3721 - acc: 0.8775 - val_loss: 2.5634 - val_acc: 0.5870\n",
      "\n",
      "Epoch 00012: val_acc did not improve from 0.66667\n",
      "Epoch 13/20\n",
      " - 27s - loss: 0.1940 - acc: 0.9484 - val_loss: 3.9578 - val_acc: 0.5507\n",
      "\n",
      "Epoch 00013: val_acc did not improve from 0.66667\n",
      "Epoch 14/20\n",
      " - 27s - loss: 0.1861 - acc: 0.9368 - val_loss: 3.1984 - val_acc: 0.6014\n",
      "\n",
      "Epoch 00014: val_acc did not improve from 0.66667\n",
      "Epoch 15/20\n",
      " - 28s - loss: 0.1071 - acc: 0.9560 - val_loss: 3.5354 - val_acc: 0.6449\n",
      "\n",
      "Epoch 00015: val_acc did not improve from 0.66667\n",
      "Epoch 16/20\n",
      " - 26s - loss: 0.3702 - acc: 0.8833 - val_loss: 4.0423 - val_acc: 0.4855\n",
      "\n",
      "Epoch 00016: val_acc did not improve from 0.66667\n",
      "Epoch 17/20\n",
      " - 27s - loss: 0.3966 - acc: 0.8580 - val_loss: 2.3091 - val_acc: 0.7029\n",
      "\n",
      "Epoch 00017: val_acc improved from 0.66667 to 0.70290, saving model to weights.best.hdf5_2\n",
      "Epoch 18/20\n",
      " - 26s - loss: 0.4455 - acc: 0.8743 - val_loss: 1.9698 - val_acc: 0.5145\n",
      "\n",
      "Epoch 00018: val_acc did not improve from 0.70290\n",
      "Epoch 19/20\n",
      " - 26s - loss: 0.2263 - acc: 0.8979 - val_loss: 2.6166 - val_acc: 0.4493\n",
      "\n",
      "Epoch 00019: val_acc did not improve from 0.70290\n",
      "Epoch 20/20\n",
      " - 26s - loss: 0.1595 - acc: 0.9411 - val_loss: 6.4801 - val_acc: 0.4710\n",
      "\n",
      "Epoch 00020: val_acc did not improve from 0.70290\n"
     ]
    },
    {
     "data": {
      "image/png": "[encoded data removed]",
      "text/plain": [
       "<Figure size 432x288 with 1 Axes>"
      ]
     },
     "metadata": {
      "needs_background": "light"
     },
     "output_type": "display_data"
    }
   ],
   "source": [
    "\n",
    "\n",
    "model.compile(optimizer=Adam(),\n",
    "              loss='sparse_categorical_crossentropy',\n",
    "              metrics=['accuracy'])\n",
    "# filepath=\"weights-improvement-{epoch:02d}-{val_acc:.2f}.hdf5\"\n",
    "# checkpoint = ModelCheckpoint(filepath, monitor='val_acc', verbose=1, save_best_only=True, mode='max')\n",
    "filepath=\"weights.best.hdf5_2\"\n",
    "checkpoint = ModelCheckpoint(filepath, monitor='val_acc', verbose=2, save_best_only=True, mode='max')\n",
    "callbacks_list = [checkpoint]\n",
    "history = model.fit_generator(train_generator, epochs=20, steps_per_epoch=10, verbose=2,callbacks=callbacks_list, validation_data=validation_generator, validation_steps=9) #epochs=50, steps=2000\n",
    "\n",
    "plt.plot(history.history['acc'])\n",
    "plt.plot(history.history['val_acc'])\n",
    "plt.title('model accuracy')\n",
    "plt.ylabel('accuracy')\n",
    "plt.xlabel('epoch')\n",
    "plt.legend(['train', 'test'], loc='upper left')\n",
    "plt.show()"
   ]
  },
  {
   "cell_type": "code",
   "execution_count": 184,
   "metadata": {},
   "outputs": [
    {
     "name": "stdout",
     "output_type": "stream",
     "text": [
      "100/100 [==============================] - 7s 65ms/step\n"
     ]
    }
   ],
   "source": [
    "model.load_weights(\"weights.best.hdf5_2\")\n",
    "prediction = model.predict_generator(test_generator, steps=100, max_queue_size=1, workers=1, use_multiprocessing=False, verbose=1)\n",
    "prediction_net=[]\n",
    "\n"
   ]
  },
  {
   "cell_type": "code",
   "execution_count": 185,
   "metadata": {},
   "outputs": [
    {
     "name": "stdout",
     "output_type": "stream",
     "text": [
      "11/11 [==============================] - 1s 51ms/step\n"
     ]
    }
   ],
   "source": [
    "STEP_SIZE_TEST=test_generator.n//test_generator.batch_size\n",
    "test_generator.reset()\n",
    "pred=model.predict_generator(test_generator,steps=STEP_SIZE_TEST,verbose=1)\n",
    "predicted_class_indices=np.argmax(pred,axis=1)\n"
   ]
  },
  {
   "cell_type": "code",
   "execution_count": 186,
   "metadata": {},
   "outputs": [],
   "source": [
    "labels = (train_generator.class_indices)\n",
    "labels = dict((v,k) for k,v in labels.items())\n",
    "predictions = [labels[k] for k in predicted_class_indices]\n"
   ]
  },
  {
   "cell_type": "code",
   "execution_count": 187,
   "metadata": {},
   "outputs": [],
   "source": [
    "filenames=test_generator.filenames\n",
    "results=pd.DataFrame({\"Filename\":filenames,\n",
    "                      \"Predictions\":predictions})\n",
    "results.to_csv(\"results.csv\",index=False)"
   ]
  },
  {
   "cell_type": "code",
   "execution_count": 45,
   "metadata": {},
   "outputs": [],
   "source": [
    "#Adding regression layer\n",
    "\n"
   ]
  },
  {
   "cell_type": "code",
   "execution_count": 46,
   "metadata": {},
   "outputs": [
    {
     "name": "stdout",
     "output_type": "stream",
     "text": [
      "Test Accuracy: 0.000000 and the count is: 0.000000\n"
     ]
    }
   ],
   "source": []
  }
 ],
 "metadata": {
  "kernelspec": {
   "display_name": "Python 3",
   "language": "python",
   "name": "python3"
  },
  "language_info": {
   "codemirror_mode": {
    "name": "ipython",
    "version": 3
   },
   "file_extension": ".py",
   "mimetype": "text/x-python",
   "name": "python",
   "nbconvert_exporter": "python",
   "pygments_lexer": "ipython3",
   "version": "3.7.3"
  }
 },
 "nbformat": 4,
 "nbformat_minor": 2
}
