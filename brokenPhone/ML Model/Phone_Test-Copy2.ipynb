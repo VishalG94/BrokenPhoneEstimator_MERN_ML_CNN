{
 "cells": [
  {
   "cell_type": "code",
   "execution_count": 1,
   "metadata": {
    "scrolled": true
   },
   "outputs": [
    {
     "name": "stderr",
     "output_type": "stream",
     "text": [
      "Using TensorFlow backend.\n"
     ]
    }
   ],
   "source": [
    "\n",
    "import numpy as np # linear algebra\n",
    "import pandas as pd # data processing, CSV file I/O (e.g. pd.read_csv)\n",
    "import os\n",
    "#print(os.listdir(\"../input\"))\n",
    "# Any results you write to the current directory are saved as output.\n",
    "from keras.applications.vgg16 import VGG16\n",
    "from keras.preprocessing import image\n",
    "from keras.applications.vgg16 import preprocess_input\n",
    "from keras.layers import Input, Flatten, Dense\n",
    "from keras.models import Model\n",
    "import glob\n",
    "from scipy import misc\n",
    "import tensorflow as tf\n",
    "import numpy as np\n",
    "from keras.callbacks import ModelCheckpoint\n",
    "import matplotlib.pyplot as plt\n",
    "import matplotlib.image as mpimg\n",
    "from keras.layers import Dense, Activation, Dropout, Flatten,\\\n",
    " Conv2D, MaxPooling2D\n",
    "from keras.layers.normalization import BatchNormalization\n",
    "from keras.models import Sequential\n",
    "from keras.optimizers import Adam \n",
    "\n",
    "#Get back the convolutional part of a VGG network trained on ImageNet"
   ]
  },
  {
   "cell_type": "code",
   "execution_count": 2,
   "metadata": {},
   "outputs": [
    {
     "name": "stdout",
     "output_type": "stream",
     "text": [
      "WARNING:tensorflow:From C:\\ProgramData\\Anaconda3\\lib\\site-packages\\keras\\backend\\tensorflow_backend.py:74: The name tf.get_default_graph is deprecated. Please use tf.compat.v1.get_default_graph instead.\n",
      "\n",
      "WARNING:tensorflow:From C:\\ProgramData\\Anaconda3\\lib\\site-packages\\keras\\backend\\tensorflow_backend.py:517: The name tf.placeholder is deprecated. Please use tf.compat.v1.placeholder instead.\n",
      "\n",
      "WARNING:tensorflow:From C:\\ProgramData\\Anaconda3\\lib\\site-packages\\keras\\backend\\tensorflow_backend.py:4138: The name tf.random_uniform is deprecated. Please use tf.random.uniform instead.\n",
      "\n",
      "WARNING:tensorflow:From C:\\ProgramData\\Anaconda3\\lib\\site-packages\\keras\\backend\\tensorflow_backend.py:3976: The name tf.nn.max_pool is deprecated. Please use tf.nn.max_pool2d instead.\n",
      "\n",
      "WARNING:tensorflow:From C:\\ProgramData\\Anaconda3\\lib\\site-packages\\keras\\backend\\tensorflow_backend.py:174: The name tf.get_default_session is deprecated. Please use tf.compat.v1.get_default_session instead.\n",
      "\n",
      "WARNING:tensorflow:From C:\\ProgramData\\Anaconda3\\lib\\site-packages\\keras\\backend\\tensorflow_backend.py:181: The name tf.ConfigProto is deprecated. Please use tf.compat.v1.ConfigProto instead.\n",
      "\n",
      "WARNING:tensorflow:From C:\\ProgramData\\Anaconda3\\lib\\site-packages\\keras\\backend\\tensorflow_backend.py:1834: The name tf.nn.fused_batch_norm is deprecated. Please use tf.compat.v1.nn.fused_batch_norm instead.\n",
      "\n"
     ]
    }
   ],
   "source": [
    "\n",
    "model = Sequential()\n",
    "# 1st Convolutional Layer\n",
    "model.add(Conv2D(filters=96, input_shape=(224,224,3), kernel_size=(11,11),\n",
    " strides=(4,4), padding='valid'))\n",
    "model.add(Activation('relu'))\n",
    "# Pooling\n",
    "model.add(MaxPooling2D(pool_size=(2,2), strides=(2,2), padding='valid'))\n",
    "# Batch Normalisation before passing it to the next layer\n",
    "model.add(BatchNormalization())"
   ]
  },
  {
   "cell_type": "code",
   "execution_count": 3,
   "metadata": {},
   "outputs": [],
   "source": [
    "# 2nd Convolutional Layer\n",
    "model.add(Conv2D(filters=256, kernel_size=(11,11), strides=(1,1), padding='valid'))\n",
    "model.add(Activation('relu'))\n",
    "# Pooling\n",
    "model.add(MaxPooling2D(pool_size=(2,2), strides=(2,2), padding='valid'))\n",
    "# Batch Normalisation\n",
    "model.add(BatchNormalization())"
   ]
  },
  {
   "cell_type": "code",
   "execution_count": 4,
   "metadata": {},
   "outputs": [],
   "source": [
    "# 3rd Convolutional Layer\n",
    "model.add(Conv2D(filters=384, kernel_size=(3,3), strides=(1,1), padding='valid'))\n",
    "model.add(Activation('relu'))\n",
    "# Batch Normalisation\n",
    "model.add(BatchNormalization())\n"
   ]
  },
  {
   "cell_type": "code",
   "execution_count": 5,
   "metadata": {},
   "outputs": [],
   "source": [
    "# 4th Convolutional Layer\n",
    "model.add(Conv2D(filters=384, kernel_size=(3,3), strides=(1,1), padding='valid'))\n",
    "model.add(Activation('relu'))\n",
    "# Batch Normalisation\n",
    "model.add(BatchNormalization())\n"
   ]
  },
  {
   "cell_type": "code",
   "execution_count": 6,
   "metadata": {},
   "outputs": [],
   "source": [
    "# 5th Convolutional Layer\n",
    "model.add(Conv2D(filters=256, kernel_size=(3,3), strides=(1,1), padding='valid'))\n",
    "model.add(Activation('relu'))\n",
    "# Pooling\n",
    "model.add(MaxPooling2D(pool_size=(2,2), strides=(2,2), padding='valid'))\n",
    "# Batch Normalisation\n",
    "model.add(BatchNormalization())"
   ]
  },
  {
   "cell_type": "code",
   "execution_count": 7,
   "metadata": {},
   "outputs": [
    {
     "name": "stdout",
     "output_type": "stream",
     "text": [
      "WARNING:tensorflow:From C:\\ProgramData\\Anaconda3\\lib\\site-packages\\keras\\backend\\tensorflow_backend.py:3445: calling dropout (from tensorflow.python.ops.nn_ops) with keep_prob is deprecated and will be removed in a future version.\n",
      "Instructions for updating:\n",
      "Please use `rate` instead of `keep_prob`. Rate should be set to `rate = 1 - keep_prob`.\n"
     ]
    }
   ],
   "source": [
    "# Passing it to a dense layer\n",
    "model.add(Flatten())\n",
    "# 1st Dense Layer\n",
    "model.add(Dense(4096, input_shape=(224*224*3,)))\n",
    "model.add(Activation('relu'))\n",
    "# Add Dropout to prevent overfitting\n",
    "model.add(Dropout(0.4))\n",
    "# Batch Normalisation\n",
    "model.add(BatchNormalization())\n"
   ]
  },
  {
   "cell_type": "code",
   "execution_count": 8,
   "metadata": {},
   "outputs": [],
   "source": [
    "# 2nd Dense Layer\n",
    "model.add(Dense(4096))\n",
    "model.add(Activation('relu'))\n",
    "# Add Dropout\n",
    "model.add(Dropout(0.4))\n",
    "# Batch Normalisation\n",
    "model.add(BatchNormalization())\n"
   ]
  },
  {
   "cell_type": "code",
   "execution_count": 9,
   "metadata": {},
   "outputs": [],
   "source": [
    "# 3rd Dense Layer\n",
    "model.add(Dense(1000))\n",
    "model.add(Activation('relu'))\n",
    "# Add Dropout\n",
    "model.add(Dropout(0.4))\n",
    "# Batch Normalisation\n",
    "model.add(BatchNormalization())\n"
   ]
  },
  {
   "cell_type": "code",
   "execution_count": 10,
   "metadata": {},
   "outputs": [],
   "source": [
    "# Output Layer\n",
    "model.add(Dense(units=4))\n",
    "model.add(Activation('softmax'))\n",
    "\n",
    "batch_size = 4\n",
    "\n",
    "# this is the augmentation configuration we will use for training\n",
    "train_datagen = image.ImageDataGenerator(\n",
    "    rotation_range=20,\n",
    "    width_shift_range=0.2,\n",
    "    height_shift_range=0.2,\n",
    "    horizontal_flip=True)\n",
    "\n",
    "# this is the augmentation configuration we will use for testing:\n",
    "# only rescaling\n",
    "test_datagen = image.ImageDataGenerator()\n"
   ]
  },
  {
   "cell_type": "code",
   "execution_count": 11,
   "metadata": {
    "scrolled": true
   },
   "outputs": [
    {
     "name": "stdout",
     "output_type": "stream",
     "text": [
      "Found 139 images belonging to 4 classes.\n",
      "Found 52 images belonging to 4 classes.\n",
      "Found 12 images belonging to 1 classes.\n"
     ]
    }
   ],
   "source": [
    "\n",
    "# this is a generator that will read pictures found in\n",
    "# subfolers of 'data/train', and indefinitely generate\n",
    "# batches of augmented image data\n",
    "class_names = ['0','1','2','3']\n",
    "train_generator = train_datagen.flow_from_directory(\n",
    "        \"./Images/Percentages_Set/Training\",  # this is the target directory\n",
    "        target_size=(224, 224),  # all images will be resized to 150x150\n",
    "        batch_size=batch_size,\n",
    "          class_mode='categorical',\n",
    "       )  # since we use binary_crossentropy loss, we need binary labels\n",
    "\n",
    "# # this is a similar generator, for validation data\n",
    "validation_generator = test_datagen.flow_from_directory(\n",
    "          \"./Images/Percentages_Set/Validation\",\n",
    "          target_size=(224, 224),\n",
    "          class_mode='categorical',\n",
    "          batch_size=batch_size,\n",
    "         )\n",
    "\n",
    "test_generator = test_datagen.flow_from_directory(\n",
    "          \"./Images/Percentages_Set/Test\",\n",
    "          target_size=(224, 224),\n",
    "          batch_size=1,\n",
    "          class_mode=None,\n",
    "          shuffle='False'\n",
    "            )\n",
    "\n"
   ]
  },
  {
   "cell_type": "code",
   "execution_count": 12,
   "metadata": {},
   "outputs": [
    {
     "name": "stdout",
     "output_type": "stream",
     "text": [
      "{'Crack0': 0, 'Crack1': 1, 'Crack2': 2, 'Non Crack': 3}\n"
     ]
    }
   ],
   "source": [
    "print(validation_generator.class_indices)"
   ]
  },
  {
   "cell_type": "code",
   "execution_count": 13,
   "metadata": {},
   "outputs": [],
   "source": [
    "from keras import callbacks\n",
    "\n",
    "log_dir = './tf-log/'\n",
    "tb_cb = callbacks.TensorBoard(log_dir=log_dir, histogram_freq=0)\n",
    "cbks = [tb_cb]"
   ]
  },
  {
   "cell_type": "code",
   "execution_count": null,
   "metadata": {
    "scrolled": true
   },
   "outputs": [
    {
     "name": "stdout",
     "output_type": "stream",
     "text": [
      "Epoch 1/200\n",
      "20/20 [==============================] - 29s 1s/step - loss: 1.7382 - acc: 0.2250 - val_loss: 1.4021 - val_acc: 0.2500\n",
      "Epoch 2/200\n",
      "20/20 [==============================] - 25s 1s/step - loss: 1.5866 - acc: 0.3542 - val_loss: 1.3128 - val_acc: 0.4375\n",
      "Epoch 3/200\n",
      "20/20 [==============================] - 23s 1s/step - loss: 1.5222 - acc: 0.4667 - val_loss: 1.5247 - val_acc: 0.3375\n",
      "Epoch 4/200\n",
      "20/20 [==============================] - 22s 1s/step - loss: 1.5404 - acc: 0.3250 - val_loss: 1.4662 - val_acc: 0.2875\n",
      "Epoch 5/200\n",
      "20/20 [==============================] - 21s 1s/step - loss: 1.5088 - acc: 0.3167 - val_loss: 1.2517 - val_acc: 0.4125\n",
      "Epoch 6/200\n",
      "20/20 [==============================] - 22s 1s/step - loss: 1.5306 - acc: 0.3500 - val_loss: 1.2395 - val_acc: 0.5250\n",
      "Epoch 7/200\n",
      "20/20 [==============================] - 27s 1s/step - loss: 1.5002 - acc: 0.3292 - val_loss: 1.4125 - val_acc: 0.6000\n",
      "Epoch 8/200\n",
      "20/20 [==============================] - 27s 1s/step - loss: 1.5183 - acc: 0.4625 - val_loss: 1.2756 - val_acc: 0.5000\n",
      "Epoch 9/200\n",
      "20/20 [==============================] - 27s 1s/step - loss: 1.5732 - acc: 0.3502 - val_loss: 1.4980 - val_acc: 0.3250\n",
      "Epoch 10/200\n",
      "20/20 [==============================] - 26s 1s/step - loss: 1.5922 - acc: 0.3502 - val_loss: 1.5393 - val_acc: 0.2625\n",
      "Epoch 11/200\n",
      "20/20 [==============================] - 29s 1s/step - loss: 1.6035 - acc: 0.2875 - val_loss: 1.2963 - val_acc: 0.3125\n",
      "Epoch 12/200\n",
      "20/20 [==============================] - 28s 1s/step - loss: 1.7031 - acc: 0.2166 - val_loss: 1.3527 - val_acc: 0.2875\n",
      "Epoch 13/200\n",
      "20/20 [==============================] - 27s 1s/step - loss: 1.5393 - acc: 0.3625 - val_loss: 2.4192 - val_acc: 0.2875\n",
      "Epoch 14/200\n",
      "20/20 [==============================] - 26s 1s/step - loss: 1.7491 - acc: 0.2001 - val_loss: 2.0025 - val_acc: 0.3375\n",
      "Epoch 15/200\n",
      "20/20 [==============================] - 27s 1s/step - loss: 1.6743 - acc: 0.2250 - val_loss: 1.3741 - val_acc: 0.3750\n",
      "Epoch 16/200\n",
      "20/20 [==============================] - 26s 1s/step - loss: 1.4601 - acc: 0.3292 - val_loss: 1.0816 - val_acc: 0.5000\n",
      "Epoch 17/200\n",
      "20/20 [==============================] - 26s 1s/step - loss: 1.4625 - acc: 0.3167 - val_loss: 1.0630 - val_acc: 0.6000\n",
      "Epoch 18/200\n",
      "20/20 [==============================] - 27s 1s/step - loss: 1.5762 - acc: 0.2125 - val_loss: 1.1161 - val_acc: 0.4375\n",
      "Epoch 19/200\n",
      "20/20 [==============================] - 33s 2s/step - loss: 1.3533 - acc: 0.3752 - val_loss: 1.4174 - val_acc: 0.2875\n",
      "Epoch 20/200\n",
      "20/20 [==============================] - 35s 2s/step - loss: 1.6739 - acc: 0.2250 - val_loss: 1.2903 - val_acc: 0.4250\n",
      "Epoch 21/200\n",
      "20/20 [==============================] - 31s 2s/step - loss: 1.6148 - acc: 0.2502 - val_loss: 1.4602 - val_acc: 0.4625\n",
      "Epoch 22/200\n",
      "20/20 [==============================] - 32s 2s/step - loss: 1.7481 - acc: 0.2625 - val_loss: 1.2682 - val_acc: 0.3875\n",
      "Epoch 23/200\n",
      "20/20 [==============================] - 36s 2s/step - loss: 1.5732 - acc: 0.2001 - val_loss: 1.3191 - val_acc: 0.4625\n",
      "Epoch 24/200\n",
      "20/20 [==============================] - 31s 2s/step - loss: 1.5309 - acc: 0.3377 - val_loss: 1.5773 - val_acc: 0.4000\n",
      "Epoch 25/200\n",
      "20/20 [==============================] - 31s 2s/step - loss: 1.5435 - acc: 0.3250 - val_loss: 1.1548 - val_acc: 0.6250\n",
      "Epoch 26/200\n",
      "20/20 [==============================] - 30s 2s/step - loss: 1.6061 - acc: 0.2541 - val_loss: 1.4601 - val_acc: 0.4500\n",
      "Epoch 27/200\n",
      "20/20 [==============================] - 32s 2s/step - loss: 1.5399 - acc: 0.3125 - val_loss: 1.2814 - val_acc: 0.4750\n",
      "Epoch 28/200\n",
      "20/20 [==============================] - 33s 2s/step - loss: 1.5928 - acc: 0.3331 - val_loss: 1.3423 - val_acc: 0.5375\n",
      "Epoch 29/200\n",
      "20/20 [==============================] - 37s 2s/step - loss: 1.5897 - acc: 0.3375 - val_loss: 1.3941 - val_acc: 0.4000\n",
      "Epoch 30/200\n",
      "20/20 [==============================] - 32s 2s/step - loss: 1.4230 - acc: 0.3996 - val_loss: 1.5565 - val_acc: 0.3250\n",
      "Epoch 31/200\n",
      "20/20 [==============================] - 32s 2s/step - loss: 1.6729 - acc: 0.2752 - val_loss: 1.4112 - val_acc: 0.5250\n",
      "Epoch 32/200\n",
      "20/20 [==============================] - 29s 1s/step - loss: 1.6668 - acc: 0.2375 - val_loss: 1.3951 - val_acc: 0.5125\n",
      "Epoch 33/200\n",
      "20/20 [==============================] - 29s 1s/step - loss: 1.7421 - acc: 0.2331 - val_loss: 1.3528 - val_acc: 0.5375\n",
      "Epoch 34/200\n",
      "20/20 [==============================] - 29s 1s/step - loss: 1.5395 - acc: 0.3000 - val_loss: 1.4765 - val_acc: 0.2875\n",
      "Epoch 35/200\n",
      "20/20 [==============================] - 29s 1s/step - loss: 1.4365 - acc: 0.3377 - val_loss: 1.1832 - val_acc: 0.4625\n",
      "Epoch 36/200\n",
      "20/20 [==============================] - 32s 2s/step - loss: 1.5977 - acc: 0.2875 - val_loss: 1.2174 - val_acc: 0.4125\n",
      "Epoch 37/200\n",
      "16/20 [=======================>......] - ETA: 4s - loss: 1.4564 - acc: 0.2396"
     ]
    }
   ],
   "source": [
    "\n",
    "\n",
    "model.compile(optimizer=Adam(),\n",
    "              loss='categorical_crossentropy',\n",
    "              metrics=['accuracy'])\n",
    "# filepath=\"weights-improvement-{epoch:02d}-{val_acc:.2f}.hdf5\"\n",
    "# checkpoint = ModelCheckpoint(filepath, monitor='val_acc', verbose=1, save_best_only=True, mode='max')\n",
    "filepath=\"weights.best.hdf5_2\"\n",
    "checkpoint = ModelCheckpoint(filepath, monitor='val_acc', verbose=2, save_best_only=True, mode='max')\n",
    "callbacks_list = [checkpoint]\n",
    "#history = model.fit_generator(train_generator, epochs=10, steps_per_epoch=5, verbose=1,callbacks=callbacks_list, validation_data=validation_generator, validation_steps=5) #epochs=50, steps=2000\n",
    "STEP_SIZE_TRAIN=train_generator.n//train_generator.batch_size\n",
    "STEP_SIZE_VALID=validation_generator.n//validation_generator.batch_size\n",
    "history =model.fit_generator(generator=train_generator,\n",
    "                    steps_per_epoch=20,\n",
    "                    validation_data=validation_generator,\n",
    "                    validation_steps=20,\n",
    "                    epochs=200,verbose=1)\n",
    "plt.plot(history.history['acc'])\n",
    "plt.plot(history.history['val_acc'])\n",
    "plt.title('model accuracy')\n",
    "plt.ylabel('accuracy')\n",
    "plt.xlabel('epoch')\n",
    "plt.legend(['train', 'test'], loc='upper left')\n",
    "plt.show()"
   ]
  },
  {
   "cell_type": "code",
   "execution_count": 16,
   "metadata": {},
   "outputs": [],
   "source": [
    "import sys\n",
    "import os\n",
    "\n",
    "target_dir = './models/'\n",
    "if not os.path.exists(target_dir):\n",
    "  os.mkdir(target_dir)\n",
    "model.save('./models/model.h5')\n",
    "model.save_weights('./models/weights.h5')"
   ]
  },
  {
   "cell_type": "code",
   "execution_count": 17,
   "metadata": {},
   "outputs": [
    {
     "data": {
      "text/plain": [
       "<Figure size 432x288 with 0 Axes>"
      ]
     },
     "metadata": {},
     "output_type": "display_data"
    }
   ],
   "source": []
  },
  {
   "cell_type": "code",
   "execution_count": 20,
   "metadata": {},
   "outputs": [
    {
     "data": {
      "image/png": "[encoded data removed]",
      "text/plain": [
       "<Figure size 432x288 with 1 Axes>"
      ]
     },
     "metadata": {
      "needs_background": "light"
     },
     "output_type": "display_data"
    },
    {
     "data": {
      "text/plain": [
       "<Figure size 432x288 with 0 Axes>"
      ]
     },
     "metadata": {},
     "output_type": "display_data"
    }
   ],
   "source": [
    "plt.plot(history.history['acc'])\n",
    "plt.plot(history.history['val_acc'])\n",
    "plt.title('model accuracy')\n",
    "plt.ylabel('accuracy')\n",
    "plt.xlabel('epoch')\n",
    "plt.legend(['train', 'test'], loc='upper left')\n",
    "plt.show()\n",
    "plt.savefig('TrainingGraph.jpg')"
   ]
  },
  {
   "cell_type": "code",
   "execution_count": null,
   "metadata": {},
   "outputs": [],
   "source": []
  }
 ],
 "metadata": {
  "kernelspec": {
   "display_name": "Python 3",
   "language": "python",
   "name": "python3"
  },
  "language_info": {
   "codemirror_mode": {
    "name": "ipython",
    "version": 3
   },
   "file_extension": ".py",
   "mimetype": "text/x-python",
   "name": "python",
   "nbconvert_exporter": "python",
   "pygments_lexer": "ipython3",
   "version": "3.7.3"
  }
 },
 "nbformat": 4,
 "nbformat_minor": 2
}
